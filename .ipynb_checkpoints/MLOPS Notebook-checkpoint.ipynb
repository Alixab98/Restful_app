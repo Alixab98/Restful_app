{
 "cells": [
  {
   "cell_type": "code",
   "execution_count": 41,
   "id": "130cb2ea",
   "metadata": {},
   "outputs": [],
   "source": [
    "from  __future__  import  absolute_import , division , print_function ,unicode_literals\n",
    "# TensorFlow  and tf.keras\n",
    "import tensorflow as tf\n",
    "from tensorflow import keras\n",
    "\n",
    "#Helper Libraries\n",
    "import numpy as np\n",
    "import matplotlib.pyplot as plt\n",
    "import pandas as pd"
   ]
  },
  {
   "cell_type": "code",
   "execution_count": 42,
   "id": "4e20fbe9",
   "metadata": {},
   "outputs": [
    {
     "name": "stdout",
     "output_type": "stream",
     "text": [
      "2.11.0\n"
     ]
    }
   ],
   "source": [
    "print(tf.__version__)"
   ]
  },
  {
   "cell_type": "code",
   "execution_count": 43,
   "id": "4e6acd7c",
   "metadata": {},
   "outputs": [],
   "source": [
    "# Define the path to the CSV file\n",
    "path_to_csv = 'data/fashion-mnist-train-1.csv'"
   ]
  },
  {
   "cell_type": "code",
   "execution_count": 44,
   "id": "cf9a7ef4",
   "metadata": {},
   "outputs": [],
   "source": [
    "data=pd.read_csv(path_to_csv)"
   ]
  },
  {
   "cell_type": "code",
   "execution_count": 45,
   "id": "1a6b108e",
   "metadata": {},
   "outputs": [
    {
     "data": {
      "text/plain": [
       "Index(['label', 'pixel1', 'pixel2', 'pixel3', 'pixel4', 'pixel5', 'pixel6',\n",
       "       'pixel7', 'pixel8', 'pixel9',\n",
       "       ...\n",
       "       'pixel775', 'pixel776', 'pixel777', 'pixel778', 'pixel779', 'pixel780',\n",
       "       'pixel781', 'pixel782', 'pixel783', 'pixel784'],\n",
       "      dtype='object', length=785)"
      ]
     },
     "execution_count": 45,
     "metadata": {},
     "output_type": "execute_result"
    }
   ],
   "source": [
    "data.columns"
   ]
  },
  {
   "cell_type": "code",
   "execution_count": 46,
   "id": "73311152",
   "metadata": {},
   "outputs": [],
   "source": [
    "X = data.drop(columns=['label']).to_numpy()\n",
    "y = data['label'].to_numpy()"
   ]
  },
  {
   "cell_type": "code",
   "execution_count": 47,
   "id": "90447c82",
   "metadata": {},
   "outputs": [
    {
     "data": {
      "text/plain": [
       "784"
      ]
     },
     "execution_count": 47,
     "metadata": {},
     "output_type": "execute_result"
    }
   ],
   "source": [
    "len(X[0])"
   ]
  },
  {
   "cell_type": "code",
   "execution_count": 48,
   "id": "ecf395aa",
   "metadata": {},
   "outputs": [],
   "source": [
    "X = X/255.0"
   ]
  },
  {
   "cell_type": "code",
   "execution_count": 50,
   "id": "60f0ae22",
   "metadata": {},
   "outputs": [],
   "source": [
    "model=keras.Sequential([\n",
    "    keras.layers.Flatten(input_shape=(784,1)),\n",
    "    keras.layers.Dense(128, activation='relu'),\n",
    "    keras.layers.Dense(10, activation='softmax')\n",
    "])"
   ]
  },
  {
   "cell_type": "code",
   "execution_count": 53,
   "id": "f30386e4",
   "metadata": {},
   "outputs": [],
   "source": [
    "model.compile(optimizer='adam',\n",
    "              loss='sparse_categorical_crossentropy',\n",
    "              metrics =['accuracy'])"
   ]
  },
  {
   "cell_type": "code",
   "execution_count": 54,
   "id": "d064e50d",
   "metadata": {},
   "outputs": [],
   "source": [
    "#X = X.reshape(X.shape[0], 28, 28)"
   ]
  },
  {
   "cell_type": "code",
   "execution_count": 55,
   "id": "b5d55c3a",
   "metadata": {},
   "outputs": [
    {
     "name": "stdout",
     "output_type": "stream",
     "text": [
      "Epoch 1/10\n",
      "469/469 [==============================] - 2s 3ms/step - loss: 0.6453 - accuracy: 0.7731\n",
      "Epoch 2/10\n",
      "469/469 [==============================] - 1s 2ms/step - loss: 0.4720 - accuracy: 0.8327\n",
      "Epoch 3/10\n",
      "469/469 [==============================] - 1s 2ms/step - loss: 0.4160 - accuracy: 0.8509\n",
      "Epoch 4/10\n",
      "469/469 [==============================] - 1s 2ms/step - loss: 0.3848 - accuracy: 0.8606\n",
      "Epoch 5/10\n",
      "469/469 [==============================] - 1s 2ms/step - loss: 0.3588 - accuracy: 0.8713\n",
      "Epoch 6/10\n",
      "469/469 [==============================] - 1s 2ms/step - loss: 0.3410 - accuracy: 0.8769\n",
      "Epoch 7/10\n",
      "469/469 [==============================] - 1s 2ms/step - loss: 0.3221 - accuracy: 0.8829\n",
      "Epoch 8/10\n",
      "469/469 [==============================] - 1s 2ms/step - loss: 0.3069 - accuracy: 0.8874\n",
      "Epoch 9/10\n",
      "469/469 [==============================] - 1s 2ms/step - loss: 0.2901 - accuracy: 0.8942\n",
      "Epoch 10/10\n",
      "469/469 [==============================] - 1s 2ms/step - loss: 0.2767 - accuracy: 0.8981\n"
     ]
    },
    {
     "data": {
      "text/plain": [
       "<keras.callbacks.History at 0x187a6363a30>"
      ]
     },
     "execution_count": 55,
     "metadata": {},
     "output_type": "execute_result"
    }
   ],
   "source": [
    "model.fit(X , y , epochs =10)"
   ]
  },
  {
   "cell_type": "code",
   "execution_count": 56,
   "id": "d242f572",
   "metadata": {},
   "outputs": [],
   "source": [
    "test_data=pd.read_csv('data/fashion-mnist_test.csv')"
   ]
  },
  {
   "cell_type": "code",
   "execution_count": 63,
   "id": "1fbfcd7e",
   "metadata": {},
   "outputs": [],
   "source": [
    "X_test = test_data.drop(columns=['label']).to_numpy()\n",
    "y_test = test_data['label'].to_numpy()\n",
    "X_test= X_test/255.0"
   ]
  },
  {
   "cell_type": "code",
   "execution_count": 64,
   "id": "578aac16",
   "metadata": {},
   "outputs": [
    {
     "name": "stdout",
     "output_type": "stream",
     "text": [
      "313/313 - 0s - loss: 0.3709 - accuracy: 0.8703 - 368ms/epoch - 1ms/step\n"
     ]
    }
   ],
   "source": [
    "test_loss , test_acc = model.evaluate(X_test ,   y_test ,verbose =2)"
   ]
  },
  {
   "cell_type": "code",
   "execution_count": 71,
   "id": "d999c6fc",
   "metadata": {},
   "outputs": [
    {
     "name": "stdout",
     "output_type": "stream",
     "text": [
      "313/313 [==============================] - 0s 927us/step\n"
     ]
    }
   ],
   "source": [
    "predictions = model.predict(X_test)"
   ]
  },
  {
   "cell_type": "code",
   "execution_count": 75,
   "id": "78da8699",
   "metadata": {},
   "outputs": [
    {
     "data": {
      "text/plain": [
       "0.71163416"
      ]
     },
     "execution_count": 75,
     "metadata": {},
     "output_type": "execute_result"
    }
   ],
   "source": [
    "max(predictions[0])"
   ]
  },
  {
   "cell_type": "code",
   "execution_count": 73,
   "id": "09b8f5f4",
   "metadata": {},
   "outputs": [
    {
     "name": "stdout",
     "output_type": "stream",
     "text": [
      "0\n",
      "1\n",
      "2\n"
     ]
    }
   ],
   "source": [
    "print(np.argmax(predictions[0]))\n",
    "print(np.argmax(predictions[1]))\n",
    "print(np.argmax(predictions[2]))"
   ]
  },
  {
   "cell_type": "code",
   "execution_count": 76,
   "id": "7a8ef73c",
   "metadata": {},
   "outputs": [
    {
     "name": "stdout",
     "output_type": "stream",
     "text": [
      "0\n",
      "1\n",
      "2\n"
     ]
    }
   ],
   "source": [
    "print(y_test[0])\n",
    "print(y_test[1])\n",
    "print(y_test[2])"
   ]
  },
  {
   "cell_type": "code",
   "execution_count": null,
   "id": "2a103fe8",
   "metadata": {},
   "outputs": [],
   "source": []
  }
 ],
 "metadata": {
  "kernelspec": {
   "display_name": "Python 3 (ipykernel)",
   "language": "python",
   "name": "python3"
  },
  "language_info": {
   "codemirror_mode": {
    "name": "ipython",
    "version": 3
   },
   "file_extension": ".py",
   "mimetype": "text/x-python",
   "name": "python",
   "nbconvert_exporter": "python",
   "pygments_lexer": "ipython3",
   "version": "3.10.4"
  }
 },
 "nbformat": 4,
 "nbformat_minor": 5
}
